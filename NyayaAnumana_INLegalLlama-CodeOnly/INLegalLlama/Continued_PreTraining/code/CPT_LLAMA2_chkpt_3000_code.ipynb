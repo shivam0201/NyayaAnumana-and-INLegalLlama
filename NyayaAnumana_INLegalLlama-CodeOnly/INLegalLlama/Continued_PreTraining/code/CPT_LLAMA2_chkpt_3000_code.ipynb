{
 "cells": [
  {
   "cell_type": "markdown",
   "metadata": {
    "id": "v4AWiYQJbQ07"
   },
   "source": [
    "# Installing necessary packages"
   ]
  },
  {
   "cell_type": "code",
   "execution_count": null,
   "metadata": {
    "id": "GLXwJqbjtPho"
   },
   "outputs": [],
   "source": [
    "!pip install -q accelerate==0.21.0 peft==0.4.0 bitsandbytes==0.40.2 transformers==4.31.0 trl==0.4.7 datasets"
   ]
  },
  {
   "cell_type": "code",
   "execution_count": null,
   "metadata": {
    "colab": {
     "base_uri": "https://localhost:8080/"
    },
    "id": "0M1f9W4cHl0U",
    "outputId": "3e25ba61-d5e7-415a-efaf-7db7471b9867"
   },
   "outputs": [],
   "source": [
    "###Note: Run this cell only if you want to use WandB,else skip this\n",
    "!pip install wandb"
   ]
  },
  {
   "cell_type": "markdown",
   "metadata": {
    "id": "D3oQlPzLfL6i"
   },
   "source": [
    "Please restart session (if you use colab) after running all cells in this session"
   ]
  },
  {
   "cell_type": "markdown",
   "metadata": {
    "id": "z3DCATBsecy-"
   },
   "source": [
    "# Step-1: Importing all necessary modules"
   ]
  },
  {
   "cell_type": "code",
   "execution_count": null,
   "metadata": {
    "id": "NHTGU8QxgRfF"
   },
   "outputs": [],
   "source": [
    "import torch\n",
    "import pandas as pd\n",
    "from datasets import Dataset\n",
    "from transformers import (\n",
    "    AutoModelForCausalLM,\n",
    "    AutoTokenizer,\n",
    "    BitsAndBytesConfig,\n",
    "    TrainingArguments\n",
    ")\n",
    "from trl import SFTTrainer\n",
    "from peft import prepare_model_for_kbit_training\n",
    "from peft import LoraConfig, PeftModel"
   ]
  },
  {
   "cell_type": "markdown",
   "metadata": {
    "id": "IgAjg7HHbVfJ"
   },
   "source": [
    "### Logging into WandB account(Optional)\n",
    "- If you don't want to use WandB, please skip this section"
   ]
  },
  {
   "cell_type": "code",
   "execution_count": null,
   "metadata": {
    "id": "rl6esEIJdu7_"
   },
   "outputs": [],
   "source": [
    "!wandb login #enter your WandB API key here to login into your WandB account"
   ]
  },
  {
   "cell_type": "code",
   "execution_count": null,
   "metadata": {
    "id": "CaiEJnF6dJpU"
   },
   "outputs": [],
   "source": [
    "import wandb\n",
    "wandb.init(project=\"\") ###GIVE THE PROJECT NAME YOU WISH TO USE AS PROJECT NAME IN WANDB###"
   ]
  },
  {
   "cell_type": "markdown",
   "metadata": {
    "id": "bhTCr-qqcXF4"
   },
   "source": [
    "# Step-2: Train and validation Dataset Initialization"
   ]
  },
  {
   "cell_type": "code",
   "execution_count": null,
   "metadata": {
    "id": "ocqafQbzcVRk"
   },
   "outputs": [],
   "source": [
    "###NOTE: Please make sure the train and validation dataset has a column named as \"text\" because our model training uses that \"text\" column content as input for imporving next word prediction, which is\n",
    "### the main motive of Continued Pre-Training\n",
    "\n",
    "# Load train dataset\n",
    "try:\n",
    "    df_train = pd.read_csv(\"\") ### GIVE PATH TO THE TRAIN DATASET YOU DOWNLOADED FROM README OF CURRENT DIRECTORY###\n",
    "except pd.errors.ParserError as e:\n",
    "    print(\"Error parsing CSV file:\", e)\n",
    "\n",
    "train_dataset = Dataset.from_pandas(df_train)\n",
    "\n",
    "# Load evaluation dataset\n",
    "try:\n",
    "    df_eval = pd.read_csv(\"\") ### GIVE PATH TO THE TRAIN DATASET YOU DOWNLOADED FROM README OF CURRENT DIRECTORY###\n",
    "except pd.errors.ParserError as e:\n",
    "    print(\"Error parsing CSV file:\", e)\n",
    "\n",
    "eval_dataset = Dataset.from_pandas(df_eval)"
   ]
  },
  {
   "cell_type": "markdown",
   "metadata": {
    "id": "9yKeEP2mhMpv"
   },
   "source": [
    "# Step-3: Model Loading For Continued Pre-Training"
   ]
  },
  {
   "cell_type": "code",
   "execution_count": null,
   "metadata": {
    "id": "32P6Q8tvkXjP"
   },
   "outputs": [],
   "source": [
    "# Provide the vanilla model path from the Hugging Face hub/local path over which you want to train for Continued Pre-Training\n",
    "model_name = \"NousResearch/Llama-2-7b-chat-hf\"\n",
    "\n",
    "# Provide the name for the fine-tuned model\n",
    "new_model = \"\""
   ]
  },
  {
   "cell_type": "markdown",
   "metadata": {
    "id": "ybsD4ZwnnFbQ"
   },
   "source": [
    "## Base Model + Bits and Bytes Quantization + LoRA Quantization"
   ]
  },
  {
   "cell_type": "code",
   "execution_count": null,
   "metadata": {
    "id": "AdJdWWDInQ80"
   },
   "outputs": [],
   "source": [
    "# Bits and Bytes quantization to shift to Normalized float 4-bit quantization\n",
    "bnb_config = BitsAndBytesConfig(\n",
    "     load_in_4bit=True,\n",
    "     bnb_4bit_use_double_quant=True,\n",
    "     bnb_4bit_quant_type=\"nf4\",\n",
    "     bnb_4bit_compute_dtype=torch.bfloat16)\n",
    "\n",
    "# Load base model\n",
    "model = AutoModelForCausalLM.from_pretrained(\n",
    "    model_name,\n",
    "    quantization_config=bnb_config,\n",
    ")\n",
    "model.config.use_cache = False\n",
    "model.config.pretraining_tp = 1\n",
    "\n",
    "from peft import prepare_model_for_kbit_training\n",
    "\n",
    "model.gradient_checkpointing_enable()\n",
    "model = prepare_model_for_kbit_training(model)\n",
    "\n",
    "# Load LLaMA tokenizer\n",
    "tokenizer = AutoTokenizer.from_pretrained(model_name, trust_remote_code=True)\n",
    "tokenizer.pad_token = tokenizer.eos_token\n",
    "tokenizer.padding_side = \"right\" # Fix weird overflow issue with fp16 training\n",
    "\n",
    "from peft import LoraConfig, get_peft_model\n",
    "\n",
    "lora_config = LoraConfig(\n",
    "    r=16,\n",
    "    lora_alpha=64,\n",
    "    # target_modules=[\"query_key_value\"],\n",
    "    target_modules=[\"q_proj\", \"k_proj\", \"v_proj\", \"o_proj\"], #specific to Llama models.\n",
    "    lora_dropout=0.1,\n",
    "    bias=\"none\",\n",
    "    task_type=\"CAUSAL_LM\"\n",
    ")\n",
    "model = get_peft_model(model, lora_config)"
   ]
  },
  {
   "cell_type": "markdown",
   "metadata": {
    "id": "Cd87bAjNqLB_"
   },
   "source": [
    "# Step-4: Training Arguments Initialization"
   ]
  },
  {
   "cell_type": "code",
   "execution_count": null,
   "metadata": {
    "id": "OJXpOgBFuSrc"
   },
   "outputs": [],
   "source": [
    "|training_args = TrainingArguments(\n",
    "    per_device_train_batch_size=4,\n",
    "    gradient_accumulation_steps=4,\n",
    "    optim=\"paged_adamw_32bit\",\n",
    "    logging_steps=1,\n",
    "    learning_rate=1e-4,\n",
    "    fp16=True,\n",
    "    max_grad_norm=0.3,\n",
    "    num_train_epochs=1,\n",
    "    evaluation_strategy=\"steps\",\n",
    "    eval_steps=50,\n",
    "    warmup_ratio=0.05,\n",
    "    save_strategy=\"steps\",\n",
    "    logging_strategy=\"steps\",\n",
    "    save_steps=50,\n",
    "    save_total_limit=2,\n",
    "    group_by_length=True,\n",
    "    load_best_model_at_end=True,\n",
    "    output_dir=\"\",###GIVE THE PATH TO THE OUTPUT DIRECTORY,WHERE YOU WANT TO STORE THE MODEL AND CHECKPOINTS###\n",
    "    save_safetensors=True,\n",
    "    lr_scheduler_type=\"cosine\",\n",
    "    seed=42,\n",
    "    #report_to=\"wandb\", #uncomment this line if you want to use wandb\n",
    ")\n",
    "\n",
    "# Set supervised fine-tuning parameters\n",
    "trainer = SFTTrainer(\n",
    "    model=model,\n",
    "    train_dataset=train_dataset,\n",
    "    eval_dataset=eval_dataset,\n",
    "    dataset_text_field=\"text\",\n",
    "    max_seq_length=2048,\n",
    "    tokenizer=tokenizer,\n",
    "    args=training_args,\n",
    ")"
   ]
  },
  {
   "cell_type": "markdown",
   "metadata": {
    "id": "cNTgn4Fauw-p"
   },
   "source": [
    "# Step-5: Model Training"
   ]
  },
  {
   "cell_type": "code",
   "execution_count": null,
   "metadata": {
    "id": "qsfBwywnkbqQ"
   },
   "outputs": [],
   "source": [
    "# Train the model\n",
    "trainer.train()\n",
    "# Save trained model\n",
    "trainer.model.save_pretrained(new_model)\n",
    "trainer.save_pretrained(new_model)"
   ]
  },
  {
   "cell_type": "markdown",
   "metadata": {
    "id": "GEDm5qMQvFBM"
   },
   "source": [
    "### (OPTIONAL) RUN THE BELOW CODE LINES ONLY IF YOU WANT TO RESUME FROM A PREVIOUSLY STORED CHECKPOINT"
   ]
  },
  {
   "cell_type": "code",
   "execution_count": null,
   "metadata": {
    "id": "ILrezBgTjUrY"
   },
   "outputs": [],
   "source": [
    "training_args = TrainingArguments(\n",
    "    per_device_train_batch_size=4,\n",
    "    gradient_accumulation_steps=4,\n",
    "    optim=\"paged_adamw_32bit\",\n",
    "    logging_steps=1,\n",
    "    learning_rate=1e-4,\n",
    "    fp16=True,\n",
    "    max_grad_norm=0.3,\n",
    "    num_train_epochs=1,\n",
    "    evaluation_strategy=\"steps\",\n",
    "    eval_steps=750,\n",
    "    warmup_ratio=0.05,\n",
    "    save_strategy=\"steps\",\n",
    "    logging_strategy=\"steps\",\n",
    "    save_steps=750,\n",
    "    save_total_limit=2,\n",
    "    group_by_length=True,\n",
    "    load_best_model_at_end=True,\n",
    "    output_dir=\"\",# give the path to the output directory,where you want to store the model and checkpoints\n",
    "    save_safetensors=True,\n",
    "    lr_scheduler_type=\"cosine\",\n",
    "    seed=42,\n",
    "    resume_from_checkpoint=True,#important to resume from checkpoint\n",
    "    #report_to=\"wandb\", #uncomment this line if you want to use wandb\n",
    ")\n",
    "\n",
    "# Set supervised fine-tuning parameters\n",
    "trainer = SFTTrainer(\n",
    "    model=model,\n",
    "    train_dataset=train_dataset,\n",
    "    eval_dataset=eval_dataset,\n",
    "    dataset_text_field=\"text\",\n",
    "    max_seq_length=2048,\n",
    "    tokenizer=tokenizer,\n",
    "    args=training_args,\n",
    ")\n",
    "# Train the model\n",
    "trainer.train(resume_from_checkpoint=\"\") #give the path to the checkpoint from where you want to resume the training from\n",
    "# Save trained model\n",
    "trainer.model.save_pretrained(new_model)\n",
    "trainer.save_pretrained(new_model)"
   ]
  },
  {
   "cell_type": "code",
   "execution_count": null,
   "metadata": {
    "id": "cMZjn0OLDXof"
   },
   "outputs": [],
   "source": []
  }
 ],
 "metadata": {
  "colab": {
   "machine_shape": "hm",
   "provenance": []
  },
  "kernelspec": {
   "display_name": "Python 3 (ipykernel)",
   "language": "python",
   "name": "python3"
  },
  "language_info": {
   "codemirror_mode": {
    "name": "ipython",
    "version": 3
   },
   "file_extension": ".py",
   "mimetype": "text/x-python",
   "name": "python",
   "nbconvert_exporter": "python",
   "pygments_lexer": "ipython3",
   "version": "3.11.7"
  }
 },
 "nbformat": 4,
 "nbformat_minor": 4
}
